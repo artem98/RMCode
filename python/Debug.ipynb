{
 "cells": [
  {
   "cell_type": "code",
   "execution_count": 50,
   "metadata": {},
   "outputs": [
    {
     "name": "stdout",
     "output_type": "stream",
     "text": [
      "1 1 1 1 1 1 1 1 #|# 1\n",
      "\n",
      "1 1 1 1 1 1 1 1 #|# 1\n",
      "0 1 0 1 0 1 0 1 #|# x0\n",
      "0 0 1 1 0 0 1 1 #|# x1\n",
      "0 0 0 0 1 1 1 1 #|# x2\n",
      "\n",
      "1 1 1 1 1 1 1 1 #|# 1\n",
      "0 1 0 1 0 1 0 1 #|# x0\n",
      "0 0 1 1 0 0 1 1 #|# x1\n",
      "0 0 0 1 0 0 0 1 #|# x0x1\n",
      "0 0 0 0 1 1 1 1 #|# x2\n",
      "0 0 0 0 0 1 0 1 #|# x0x2\n",
      "0 0 0 0 0 0 1 1 #|# x1x2\n",
      "\n",
      "1 1 1 1 1 1 1 1 #|# 1\n",
      "0 1 0 1 0 1 0 1 #|# x0\n",
      "0 0 1 1 0 0 1 1 #|# x1\n",
      "0 0 0 1 0 0 0 1 #|# x0x1\n",
      "0 0 0 0 1 1 1 1 #|# x2\n",
      "0 0 0 0 0 1 0 1 #|# x0x2\n",
      "0 0 0 0 0 0 1 1 #|# x1x2\n",
      "0 0 0 0 0 0 0 1 #|# x0x1x2\n",
      "\n"
     ]
    }
   ],
   "source": [
    "from src.utils import G_matrix\n",
    "\n",
    "m = 3\n",
    "\n",
    "for r in range(0, m + 1):\n",
    "    print(G_matrix.truncate(r, m))"
   ]
  },
  {
   "cell_type": "code",
   "execution_count": 51,
   "metadata": {},
   "outputs": [
    {
     "data": {
      "text/plain": [
       "{'k': 8,\n",
       " 'm': 3,\n",
       " 'n': 8,\n",
       " 'data': array([[ True,  True,  True,  True,  True,  True,  True,  True],\n",
       "        [False,  True, False,  True, False,  True, False,  True],\n",
       "        [False, False,  True,  True, False, False,  True,  True],\n",
       "        [False, False, False,  True, False, False, False,  True],\n",
       "        [False, False, False, False,  True,  True,  True,  True],\n",
       "        [False, False, False, False, False,  True, False,  True],\n",
       "        [False, False, False, False, False, False,  True,  True],\n",
       "        [False, False, False, False, False, False, False,  True]]),\n",
       " 'monomials': array([Monomial(name='1', deg=0, args=()),\n",
       "        Monomial(name='x0', deg=1, args=(0,)),\n",
       "        Monomial(name='x1', deg=1, args=(1,)),\n",
       "        Monomial(name='x0x1', deg=2, args=(0, 1)),\n",
       "        Monomial(name='x2', deg=1, args=(2,)),\n",
       "        Monomial(name='x0x2', deg=2, args=(0, 2)),\n",
       "        Monomial(name='x1x2', deg=2, args=(1, 2)),\n",
       "        Monomial(name='x0x1x2', deg=3, args=(0, 1, 2))], dtype=object),\n",
       " 'monom_to_index': {(): 0,\n",
       "  (0,): 1,\n",
       "  (1,): 2,\n",
       "  (0, 1): 3,\n",
       "  (2,): 4,\n",
       "  (0, 2): 5,\n",
       "  (1, 2): 6,\n",
       "  (0, 1, 2): 7}}"
      ]
     },
     "execution_count": 51,
     "metadata": {},
     "output_type": "execute_result"
    }
   ],
   "source": [
    "G_matrix.truncate(r, m).__dict__"
   ]
  },
  {
   "cell_type": "code",
   "execution_count": 52,
   "metadata": {},
   "outputs": [
    {
     "name": "stdout",
     "output_type": "stream",
     "text": [
      "Noise = 1\n",
      "clear: [0 1 1 0] => 0 1 1 0 0 1 1 0 #|# x0 + x1\n",
      "noise: [0 1 1 0] => 0 1 1 0 1 1 1 0 #|# ?\n"
     ]
    }
   ],
   "source": [
    "import numpy as np\n",
    "from src.encoder import RM_encoder\n",
    "\n",
    "rm_encoder = RM_encoder(r = 1, m = 3)\n",
    "noise = rm_encoder.t\n",
    "\n",
    "print(\"Noise = {}\".format(noise))\n",
    "example = np.random.choice(2, rm_encoder.generator.k)\n",
    "print(\"clear: {} => {}\".format(example, rm_encoder.encode(example)))\n",
    "print(\"noise: {} => {}\".format(example, rm_encoder.encode_with_noise(example, noise)))"
   ]
  },
  {
   "cell_type": "code",
   "execution_count": 53,
   "metadata": {},
   "outputs": [
    {
     "name": "stdout",
     "output_type": "stream",
     "text": [
      "Noise:7\n",
      "\n",
      "clear:\n",
      "0 1 0 1 1 0 => 0 1 0 1 1 0 1 0 1 0 1 0 0 1 0 1 0 1 0 1 1 0 1 0 1 0 1 0 0 1 0 1 => 0 1 0 1 1 0\n",
      "\n",
      "noise:\n",
      "0 1 0 1 1 0 => 0 1 0 0 0 1 1 0 1 0 1 0 0 1 0 0 0 0 1 1 1 0 1 0 1 0 1 0 0 0 0 1 => 0 1 0 1 1 0\n"
     ]
    }
   ],
   "source": [
    "from src.decoder import RM_decoder\n",
    "from src.encoder import RM_encoder\n",
    "import numpy as np\n",
    "from copy import copy\n",
    "\n",
    "r = 1\n",
    "m = 5\n",
    "\n",
    "rm_encoder = RM_encoder(r = r, m = m)\n",
    "rm_decoder = RM_decoder(r = r, m = m, encoder = rm_encoder)\n",
    "\n",
    "noise = rm_encoder.t\n",
    "\n",
    "print(\"Noise:{}\".format(noise), end = \"\\n\\n\")\n",
    "\n",
    "array = np.random.choice(2, rm_encoder.generator.k)\n",
    "\n",
    "encode_array = rm_encoder.encode(array)\n",
    "encode_array.reset_name()\n",
    "\n",
    "noise_encode_array = rm_encoder.encode_with_noise(array, noise)\n",
    "noise_encode_array.reset_name()\n",
    "\n",
    "print(\"clear:\")\n",
    "print(\"{} => {} => {}\".format(str(array)[1:-1], encode_array, str(rm_decoder.decode(encode_array.copy()))[1:-1]))\n",
    "\n",
    "print()\n",
    "\n",
    "print(\"noise:\")\n",
    "print(\"{} => {} => {}\".format(str(array)[1:-1], noise_encode_array, str(rm_decoder.decode(noise_encode_array.copy()))[1:-1]))"
   ]
  },
  {
   "cell_type": "code",
   "execution_count": null,
   "metadata": {},
   "outputs": [],
   "source": []
  }
 ],
 "metadata": {
  "colab": {
   "collapsed_sections": [],
   "name": "RM.ipynb",
   "provenance": []
  },
  "kernelspec": {
   "display_name": "Python 3",
   "language": "python",
   "name": "python3"
  },
  "language_info": {
   "codemirror_mode": {
    "name": "ipython",
    "version": 3
   },
   "file_extension": ".py",
   "mimetype": "text/x-python",
   "name": "python",
   "nbconvert_exporter": "python",
   "pygments_lexer": "ipython3",
   "version": "3.7.3"
  }
 },
 "nbformat": 4,
 "nbformat_minor": 1
}
