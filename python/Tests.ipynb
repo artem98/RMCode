{
 "cells": [
  {
   "cell_type": "code",
   "execution_count": 1,
   "metadata": {},
   "outputs": [
    {
     "name": "stdout",
     "output_type": "stream",
     "text": [
      "Noise:3\n",
      "100/100 t: 0.007373332977294922\n",
      "Mean t: 0.006835832595825196\n"
     ]
    }
   ],
   "source": [
    "'''\n",
    "At least work test\n",
    "'''\n",
    "\n",
    "from src.decoder import RM_decoder\n",
    "from src.encoder import RM_encoder\n",
    "import numpy as np\n",
    "import time\n",
    "\n",
    "r = 2\n",
    "m = 5\n",
    "\n",
    "\n",
    "\n",
    "rm_encoder = RM_encoder(r = r, m = m)\n",
    "rm_decoder = RM_decoder(r = r, m = m, encoder = rm_encoder)\n",
    "noise = rm_encoder.t\n",
    "\n",
    "print(\"Noise:{}\".format(noise))\n",
    "\n",
    "total_tests = 100\n",
    "times = np.zeros(2*total_tests)\n",
    "\n",
    "for i in range(total_tests):\n",
    "    \n",
    "    array = np.random.choice(2, rm_encoder.generator.k)\n",
    "    \n",
    "    encode_array = rm_encoder.encode(array)\n",
    "    encode_array.reset_name()\n",
    "    \n",
    "    noise_encode_array = rm_encoder.encode_with_noise(array, noise)\n",
    "    noise_encode_array.reset_name()\n",
    "    \n",
    "    start = time.time()\n",
    "    decode_array = rm_decoder.decode(encode_array.copy())\n",
    "    end = time.time()\n",
    "    times[2*i] = end - start\n",
    "    \n",
    "    start = time.time()\n",
    "    decode_noise_array = rm_decoder.decode(noise_encode_array.copy())\n",
    "    end = time.time()\n",
    "    times[2*i + 1] = end - start\n",
    "    \n",
    "    if (not (array == decode_array).all()):\n",
    "        raise Exception(\"Unsecessful in pure {}\".format(array))\n",
    "    if (not (array == decode_noise_array).all()):\n",
    "        raise Exception(\"Unsecessful in noise {}\".format(array))\n",
    "    print(\"\\r{}/{} t: {}\".format(i + 1, total_tests, times[2*i + 1]), end = \"\\n\" if i == total_tests - 1 else \"\\r\")\n",
    "\n",
    "print(\"Mean t: {}\".format(np.mean(times)))"
   ]
  },
  {
   "cell_type": "code",
   "execution_count": 6,
   "metadata": {},
   "outputs": [
    {
     "name": "stdout",
     "output_type": "stream",
     "text": [
      "Noise:15\n",
      "Theoretical complexity: k * 2^m = 638 * 1024 = 653312\n",
      "17/20 t: 12.594229936599731\r"
     ]
    },
    {
     "ename": "KeyboardInterrupt",
     "evalue": "",
     "output_type": "error",
     "traceback": [
      "\u001b[0;31m---------------------------------------------------------------------------\u001b[0m",
      "\u001b[0;31mKeyboardInterrupt\u001b[0m                         Traceback (most recent call last)",
      "\u001b[0;32m<ipython-input-6-2a689fbfb23b>\u001b[0m in \u001b[0;36m<module>\u001b[0;34m\u001b[0m\n\u001b[1;32m     41\u001b[0m \u001b[0;34m\u001b[0m\u001b[0m\n\u001b[1;32m     42\u001b[0m     \u001b[0mstart\u001b[0m \u001b[0;34m=\u001b[0m \u001b[0mtime\u001b[0m\u001b[0;34m.\u001b[0m\u001b[0mtime\u001b[0m\u001b[0;34m(\u001b[0m\u001b[0;34m)\u001b[0m\u001b[0;34m\u001b[0m\u001b[0;34m\u001b[0m\u001b[0m\n\u001b[0;32m---> 43\u001b[0;31m     \u001b[0mdecode_noise_array\u001b[0m \u001b[0;34m=\u001b[0m \u001b[0mrm_decoder\u001b[0m\u001b[0;34m.\u001b[0m\u001b[0mdecode\u001b[0m\u001b[0;34m(\u001b[0m\u001b[0mnoise_encode_array\u001b[0m\u001b[0;34m.\u001b[0m\u001b[0mcopy\u001b[0m\u001b[0;34m(\u001b[0m\u001b[0;34m)\u001b[0m\u001b[0;34m)\u001b[0m\u001b[0;34m\u001b[0m\u001b[0;34m\u001b[0m\u001b[0m\n\u001b[0m\u001b[1;32m     44\u001b[0m     \u001b[0mend\u001b[0m \u001b[0;34m=\u001b[0m \u001b[0mtime\u001b[0m\u001b[0;34m.\u001b[0m\u001b[0mtime\u001b[0m\u001b[0;34m(\u001b[0m\u001b[0;34m)\u001b[0m\u001b[0;34m\u001b[0m\u001b[0;34m\u001b[0m\u001b[0m\n\u001b[1;32m     45\u001b[0m     \u001b[0mtimes\u001b[0m\u001b[0;34m[\u001b[0m\u001b[0;36m2\u001b[0m\u001b[0;34m*\u001b[0m\u001b[0mi\u001b[0m \u001b[0;34m+\u001b[0m \u001b[0;36m1\u001b[0m\u001b[0;34m]\u001b[0m \u001b[0;34m=\u001b[0m \u001b[0mend\u001b[0m \u001b[0;34m-\u001b[0m \u001b[0mstart\u001b[0m\u001b[0;34m\u001b[0m\u001b[0;34m\u001b[0m\u001b[0m\n",
      "\u001b[0;32m/home/stanislav/spec/RMCode/python/src/decoder.py\u001b[0m in \u001b[0;36mdecode\u001b[0;34m(self, encode, astype)\u001b[0m\n\u001b[1;32m     35\u001b[0m \u001b[0;34m\u001b[0m\u001b[0m\n\u001b[1;32m     36\u001b[0m         \u001b[0;32mwhile\u001b[0m \u001b[0mrecur_r\u001b[0m \u001b[0;34m>=\u001b[0m \u001b[0;36m0\u001b[0m\u001b[0;34m:\u001b[0m\u001b[0;34m\u001b[0m\u001b[0;34m\u001b[0m\u001b[0m\n\u001b[0;32m---> 37\u001b[0;31m             \u001b[0mself\u001b[0m\u001b[0;34m.\u001b[0m\u001b[0m__recur_decode\u001b[0m\u001b[0;34m(\u001b[0m\u001b[0mencode\u001b[0m\u001b[0;34m,\u001b[0m \u001b[0mrecur_r\u001b[0m\u001b[0;34m,\u001b[0m \u001b[0mresult\u001b[0m\u001b[0;34m)\u001b[0m\u001b[0;34m\u001b[0m\u001b[0;34m\u001b[0m\u001b[0m\n\u001b[0m\u001b[1;32m     38\u001b[0m             \u001b[0mrecur_r\u001b[0m \u001b[0;34m-=\u001b[0m \u001b[0;36m1\u001b[0m\u001b[0;34m\u001b[0m\u001b[0;34m\u001b[0m\u001b[0m\n\u001b[1;32m     39\u001b[0m \u001b[0;34m\u001b[0m\u001b[0m\n",
      "\u001b[0;32m/home/stanislav/spec/RMCode/python/src/decoder.py\u001b[0m in \u001b[0;36m__recur_decode\u001b[0;34m(self, encode, recur_r, result)\u001b[0m\n\u001b[1;32m     86\u001b[0m                     \u001b[0mchange_flag\u001b[0m \u001b[0;34m=\u001b[0m \u001b[0;32mTrue\u001b[0m\u001b[0;34m\u001b[0m\u001b[0;34m\u001b[0m\u001b[0m\n\u001b[1;32m     87\u001b[0m                     \u001b[0;32mfor\u001b[0m \u001b[0mmask_i\u001b[0m\u001b[0;34m,\u001b[0m \u001b[0mmask_value\u001b[0m \u001b[0;32min\u001b[0m \u001b[0menumerate\u001b[0m\u001b[0;34m(\u001b[0m\u001b[0mmonom_arg_mask\u001b[0m\u001b[0;34m)\u001b[0m\u001b[0;34m:\u001b[0m\u001b[0;34m\u001b[0m\u001b[0;34m\u001b[0m\u001b[0m\n\u001b[0;32m---> 88\u001b[0;31m                         \u001b[0;32mif\u001b[0m \u001b[0mmask_value\u001b[0m \u001b[0;34m==\u001b[0m \u001b[0;32mTrue\u001b[0m \u001b[0;32mand\u001b[0m \u001b[0mfull_points\u001b[0m\u001b[0;34m[\u001b[0m\u001b[0mmask_i\u001b[0m\u001b[0;34m]\u001b[0m \u001b[0;34m!=\u001b[0m \u001b[0;32mTrue\u001b[0m\u001b[0;34m:\u001b[0m\u001b[0;34m\u001b[0m\u001b[0;34m\u001b[0m\u001b[0m\n\u001b[0m\u001b[1;32m     89\u001b[0m                             \u001b[0mchange_flag\u001b[0m \u001b[0;34m=\u001b[0m \u001b[0;32mFalse\u001b[0m\u001b[0;34m\u001b[0m\u001b[0;34m\u001b[0m\u001b[0m\n\u001b[1;32m     90\u001b[0m                             \u001b[0;32mbreak\u001b[0m\u001b[0;34m\u001b[0m\u001b[0;34m\u001b[0m\u001b[0m\n",
      "\u001b[0;31mKeyboardInterrupt\u001b[0m: "
     ]
    }
   ],
   "source": [
    "'''\n",
    "Speed test\n",
    "'''\n",
    "\n",
    "from src.decoder import RM_decoder\n",
    "from src.encoder import RM_encoder\n",
    "import numpy as np\n",
    "import time\n",
    "\n",
    "r = 5\n",
    "m = 10\n",
    "\n",
    "\n",
    "rm_encoder = RM_encoder(r = r, m = m)\n",
    "rm_decoder = RM_decoder(r = r, m = m, encoder = rm_encoder)\n",
    "\n",
    "print(\"Noise:{}\".format(rm_encoder.t))\n",
    "print(\"Theoretical complexity: k * 2^m = {} * {} = {}\".format(rm_encoder.generator.k, 2**m, rm_encoder.generator.k * 2**m))\n",
    "\n",
    "total_tests = 10\n",
    "times = np.zeros(2*total_tests)\n",
    "\n",
    "for i in range(total_tests):\n",
    "    \n",
    "    array = np.random.choice(2, rm_encoder.generator.k)\n",
    "    \n",
    "    encode_array = rm_encoder.encode(array)\n",
    "    encode_array.reset_name()\n",
    "    \n",
    "    noise_encode_array = rm_encoder.encode_with_noise(array, rm_encoder.t)\n",
    "    noise_encode_array.reset_name()\n",
    "    \n",
    "    start = time.time()\n",
    "    decode_array = rm_decoder.decode(encode_array.copy())\n",
    "    end = time.time()\n",
    "    times[2*i] = end - start\n",
    "        \n",
    "    print(\"\\r{}/{} t: {}\".format(2*i + 1, 2*total_tests, times[2*i]), end = \"\\r\")\n",
    "    if (not (array == decode_array).all()):\n",
    "        raise Exception(\"Unsecessful in pure {}\".format(array))\n",
    "    \n",
    "    start = time.time()\n",
    "    decode_noise_array = rm_decoder.decode(noise_encode_array.copy())\n",
    "    end = time.time()\n",
    "    times[2*i + 1] = end - start\n",
    "    \n",
    "    print(\"\\r{}/{} t: {}\".format(2*i + 2, 2*total_tests, times[2*i + 1]), end = \"\\n\" if i == total_tests - 1 else \"\\r\")\n",
    "    if (not (array == decode_noise_array).all()):\n",
    "        raise Exception(\"Unsecessful in noise {}\".format(array))\n",
    "    \n",
    "\n",
    "print(\"Mean t: {}\".format(np.mean(times)))"
   ]
  },
  {
   "cell_type": "code",
   "execution_count": null,
   "metadata": {},
   "outputs": [],
   "source": []
  }
 ],
 "metadata": {
  "kernelspec": {
   "display_name": "Python 3",
   "language": "python",
   "name": "python3"
  },
  "language_info": {
   "codemirror_mode": {
    "name": "ipython",
    "version": 3
   },
   "file_extension": ".py",
   "mimetype": "text/x-python",
   "name": "python",
   "nbconvert_exporter": "python",
   "pygments_lexer": "ipython3",
   "version": "3.7.3"
  }
 },
 "nbformat": 4,
 "nbformat_minor": 2
}
