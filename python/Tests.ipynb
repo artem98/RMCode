{
 "cells": [
  {
   "cell_type": "code",
   "execution_count": 3,
   "metadata": {},
   "outputs": [
    {
     "name": "stdout",
     "output_type": "stream",
     "text": [
      "Noise:3\n",
      "100/100 t: 0.006392240524291992\n",
      "Mean t: 0.006911331415176391\n"
     ]
    }
   ],
   "source": [
    "'''\n",
    "At least work test\n",
    "'''\n",
    "\n",
    "from src.decoder import RM_decoder\n",
    "from src.encoder import RM_encoder\n",
    "import numpy as np\n",
    "import time\n",
    "\n",
    "r = 2\n",
    "m = 5\n",
    "\n",
    "\n",
    "\n",
    "rm_encoder = RM_encoder(r = r, m = m)\n",
    "rm_decoder = RM_decoder(r = r, m = m, encoder = rm_encoder)\n",
    "noise = rm_encoder.t\n",
    "\n",
    "print(\"Noise:{}\".format(noise))\n",
    "\n",
    "total_tests = 100\n",
    "times = np.zeros(2*total_tests)\n",
    "\n",
    "for i in range(total_tests):\n",
    "    \n",
    "    array = np.random.choice(2, rm_encoder.generator.k)\n",
    "    \n",
    "    encode_array = rm_encoder.encode(array)\n",
    "    encode_array.reset_name()\n",
    "    \n",
    "    noise_encode_array = rm_encoder.encode_with_noise(array, noise)\n",
    "    noise_encode_array.reset_name()\n",
    "    \n",
    "    start = time.time()\n",
    "    decode_array = rm_decoder.decode(encode_array.copy())\n",
    "    end = time.time()\n",
    "    times[2*i] = end - start\n",
    "    \n",
    "    start = time.time()\n",
    "    decode_noise_array = rm_decoder.decode(noise_encode_array.copy())\n",
    "    end = time.time()\n",
    "    times[2*i + 1] = end - start\n",
    "    \n",
    "    if (not (array == decode_array).all()):\n",
    "        raise Exception(\"Unsecessful in pure {}\".format(array))\n",
    "    if (not (array == decode_noise_array).all()):\n",
    "        raise Exception(\"Unsecessful in noise {}\".format(array))\n",
    "    print(\"\\r{}/{} t: {}\".format(i + 1, total_tests, times[2*i + 1]), end = \"\\n\" if i == total_tests - 1 else \"\\r\")\n",
    "\n",
    "print(\"Mean t: {}\".format(np.mean(times)))"
   ]
  },
  {
   "cell_type": "code",
   "execution_count": 2,
   "metadata": {},
   "outputs": [
    {
     "name": "stdout",
     "output_type": "stream",
     "text": [
      "Noise:15\n",
      "Mean t: 0.059925673007965086765\n"
     ]
    }
   ],
   "source": [
    "'''\n",
    "Speed test\n",
    "'''\n",
    "\n",
    "from src.decoder import RM_decoder\n",
    "from src.encoder import RM_encoder\n",
    "import numpy as np\n",
    "import time\n",
    "\n",
    "r = 2\n",
    "m = 7\n",
    "\n",
    "\n",
    "rm_encoder = RM_encoder(r = r, m = m)\n",
    "rm_decoder = RM_decoder(r = r, m = m, encoder = rm_encoder)\n",
    "\n",
    "print(\"Noise:{}\".format(rm_encoder.t))\n",
    "\n",
    "total_tests = 100\n",
    "times = np.zeros(2*total_tests)\n",
    "\n",
    "for i in range(total_tests):\n",
    "    \n",
    "    array = np.random.choice(2, rm_encoder.generator.k)\n",
    "    \n",
    "    encode_array = rm_encoder.encode(array)\n",
    "    encode_array.reset_name()\n",
    "    \n",
    "    noise_encode_array = rm_encoder.encode_with_noise(array, rm_encoder.t)\n",
    "    noise_encode_array.reset_name()\n",
    "    \n",
    "    start = time.time()\n",
    "    decode_array = rm_decoder.decode(encode_array.copy())\n",
    "    end = time.time()\n",
    "    times[2*i] = end - start\n",
    "        \n",
    "    if (not (array == decode_array).all()):\n",
    "        raise Exception(\"Unsecessful in pure {}\".format(array))\n",
    "    print(\"\\r{}/{} t: {}\".format(2*i + 1, 2*total_tests, times[2*i]), end = \"\\r\")\n",
    "    \n",
    "    start = time.time()\n",
    "    decode_noise_array = rm_decoder.decode(noise_encode_array.copy())\n",
    "    end = time.time()\n",
    "    times[2*i + 1] = end - start\n",
    "    \n",
    "    if (not (array == decode_noise_array).all()):\n",
    "        raise Exception(\"Unsecessful in noise {}\".format(array))\n",
    "    print(\"\\r{}/{} t: {}\".format(2*i + 2, 2*total_tests, times[2*i + 1]), end = \"\\n\" if i == total_tests - 1 else \"\\r\")\n",
    "\n",
    "\n",
    "\n",
    "print(\"Mean t: {}\".format(np.mean(times)))"
   ]
  },
  {
   "cell_type": "code",
   "execution_count": null,
   "metadata": {},
   "outputs": [],
   "source": []
  }
 ],
 "metadata": {
  "kernelspec": {
   "display_name": "Python 3",
   "language": "python",
   "name": "python3"
  },
  "language_info": {
   "codemirror_mode": {
    "name": "ipython",
    "version": 3
   },
   "file_extension": ".py",
   "mimetype": "text/x-python",
   "name": "python",
   "nbconvert_exporter": "python",
   "pygments_lexer": "ipython3",
   "version": "3.7.3"
  }
 },
 "nbformat": 4,
 "nbformat_minor": 2
}
