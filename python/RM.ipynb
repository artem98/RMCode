{
  "nbformat": 4,
  "nbformat_minor": 0,
  "metadata": {
    "colab": {
      "name": "RM.ipynb",
      "provenance": [],
      "collapsed_sections": []
    },
    "kernelspec": {
      "name": "python3",
      "display_name": "Python 3"
    }
  },
  "cells": [
    {
      "cell_type": "code",
      "metadata": {
        "id": "ARNeSf_7qo29"
      },
      "source": [
        "import numpy as np\n",
        "from dataclasses import dataclass\n",
        "from typing import List\n",
        "from scipy.special import comb\n",
        "import itertools"
      ],
      "execution_count": 1,
      "outputs": []
    },
    {
      "cell_type": "code",
      "metadata": {
        "id": "U9SZEflxuxT6"
      },
      "source": [
        "@dataclass\n",
        "class Monomial:\n",
        "    name: str\n",
        "    deg: int\n",
        "    \n",
        "@dataclass\n",
        "class Polynomial:\n",
        "    name: str\n",
        "    deg: int\n",
        "    monomials: List[Monomial]\n",
        "\n",
        "    def __init__ (self, monomials):\n",
        "        self.monomials = monomials\n",
        "\n",
        "    def update(self):\n",
        "        sorted(self.monomials, key = lambda monom: monom.deg, reverse = True)\n",
        "        self.deg = max(self.monomials[0].deg, self.monomials[-1].deg)\n",
        "        self.name = \"\"\n",
        "        for i, monom in enumerate(self.monomials):\n",
        "            self.name += monom.name if i == 0 else \" + \" + monom.name\n",
        "\n",
        "@dataclass\n",
        "class Encode_line:\n",
        "    data: np.ndarray\n",
        "    polynomial: Polynomial\n",
        "\n",
        "    def update(self):\n",
        "        self.polynomial.update()\n",
        "        return self\n",
        "    \n",
        "    def __str__(self):\n",
        "        return \"{} #|# {}\".format(str(self.data.astype(\"int\"))[1:-1], self.polynomial.name)\n",
        "    \n",
        "    def __repr__(self):\n",
        "        return self.__str__()\n",
        "    \n",
        "    def get_position(self, point):\n",
        "        return sum(2**(len(point) - i - 1) for i, bit in enumerate(np.array(point).astype(np.bool)) if bit)\n",
        "\n",
        "    def get_value(self, point):\n",
        "        return self.data[self.get_position(point)]\n",
        "\n",
        "@dataclass\n",
        "class Noise_line (Encode_line):\n",
        "    def __init__ (self: object, encode_line: Encode_line, noise_num: int):\n",
        "        self.data = noise(encode_line.data, noise_num)\n",
        "        self.polynomial = encode_line.polynomial\n",
        "\n",
        "\n",
        "def count_k(r: int, m: int):\n",
        "    return sum(comb(m, i, exact = True) for i in range(r + 1))\n",
        "\n",
        "class G_matrix():\n",
        "    def __init__ (self:object, shape: tuple):\n",
        "        '''\n",
        "        shape = (k, m) \n",
        "        n == 2**m\n",
        "        '''\n",
        "\n",
        "        self.k = shape[0]\n",
        "        self.m = shape[1]\n",
        "        self.n = 2**shape[1]\n",
        "\n",
        "        self.data = np.zeros((self.k, self.n),  dtype=np.bool)\n",
        "        self.monomials = np.ndarray(shape[0], dtype=Monomial)\n",
        "    \n",
        "    def __str__ (self):\n",
        "        result = \"\"\n",
        "        for i in range(len(self.data)):\n",
        "            result += \"{} #|# {}\\n\".format(str(self.data[i].astype(\"int\"))[1:-1], self.monomials[i].name)\n",
        "        return result\n",
        "    def __repr__ (self):\n",
        "        return self.__str__()\n",
        "    \n",
        "    def __recur_init(self):\n",
        "        recur_m = 0\n",
        "\n",
        "        self.monomials[0] = Monomial('', 0)\n",
        "        self.data[0][0] = True\n",
        "\n",
        "        def copy_G_m(dst: tuple):\n",
        "            for i in range(2**recur_m):\n",
        "                for j in range(2**recur_m):\n",
        "                    self.data[dst[0] + i][dst[1] + j] = self.data[i][j]\n",
        "        def copy_and_update_info():\n",
        "            for i in range(2**recur_m):\n",
        "                self.monomials[2**recur_m + i] = Monomial(self.monomials[i].name + \"x{}\".format(recur_m + 1), self.monomials[i].deg + 1)\n",
        "\n",
        "        while recur_m < self.m:\n",
        "            copy_G_m((0, 2**recur_m))\n",
        "            copy_G_m((2**recur_m, 2**recur_m))\n",
        "            copy_and_update_info()\n",
        "            recur_m += 1\n",
        "        \n",
        "        self.monomials[0].name = '1'\n",
        "        return self\n",
        "\n",
        "    @classmethod\n",
        "    def full(cls:type, m: int):\n",
        "        return cls(shape = (2**m, m)).__recur_init()\n",
        "\n",
        "    @classmethod\n",
        "    def truncate(cls:type, r: int, m: int):\n",
        "        full_G = cls.full(m)\n",
        "\n",
        "        if r == m:\n",
        "            return full_G\n",
        "\n",
        "        k = count_k(r, m)\n",
        "        truncated_G = cls(shape = (k, m))\n",
        "        j = 0\n",
        "        for i in range(2**m):\n",
        "            if full_G.monomials[i].deg <= r:\n",
        "                truncated_G.data[j] = full_G.data[i]\n",
        "                truncated_G.monomials[j] = full_G.monomials[i]\n",
        "                j += 1\n",
        "            if j == k:\n",
        "                break\n",
        "        return truncated_G\n"
      ],
      "execution_count": 112,
      "outputs": []
    },
    {
      "cell_type": "markdown",
      "metadata": {
        "id": "euPDffDLOGpD"
      },
      "source": [
        "**G_matrix_debug**"
      ]
    },
    {
      "cell_type": "code",
      "metadata": {
        "colab": {
          "base_uri": "https://localhost:8080/"
        },
        "id": "M0Ci-zpcydcA",
        "outputId": "60cc243c-062e-40eb-a4fd-9d0b707be580"
      },
      "source": [
        "m = 3\n",
        "r = 1\n",
        "\n",
        "full_example = G_matrix.full(m = m)\n",
        "full_example"
      ],
      "execution_count": 113,
      "outputs": [
        {
          "output_type": "execute_result",
          "data": {
            "text/plain": [
              "1 1 1 1 1 1 1 1 #|# 1\n",
              "0 1 0 1 0 1 0 1 #|# x1\n",
              "0 0 1 1 0 0 1 1 #|# x2\n",
              "0 0 0 1 0 0 0 1 #|# x1x2\n",
              "0 0 0 0 1 1 1 1 #|# x3\n",
              "0 0 0 0 0 1 0 1 #|# x1x3\n",
              "0 0 0 0 0 0 1 1 #|# x2x3\n",
              "0 0 0 0 0 0 0 1 #|# x1x2x3"
            ]
          },
          "metadata": {
            "tags": []
          },
          "execution_count": 113
        }
      ]
    },
    {
      "cell_type": "code",
      "metadata": {
        "colab": {
          "base_uri": "https://localhost:8080/"
        },
        "id": "2TS7roZAIlIi",
        "outputId": "2298f835-3e1f-4398-f3e5-ed21f61fa6c2"
      },
      "source": [
        "m = 3\n",
        "r = 1\n",
        "\n",
        "trancate_example = G_matrix.truncate(r = r, m = m)\n",
        "trancate_example"
      ],
      "execution_count": 114,
      "outputs": [
        {
          "output_type": "execute_result",
          "data": {
            "text/plain": [
              "1 1 1 1 1 1 1 1 #|# 1\n",
              "0 1 0 1 0 1 0 1 #|# x1\n",
              "0 0 1 1 0 0 1 1 #|# x2\n",
              "0 0 0 0 1 1 1 1 #|# x3"
            ]
          },
          "metadata": {
            "tags": []
          },
          "execution_count": 114
        }
      ]
    },
    {
      "cell_type": "code",
      "metadata": {
        "id": "vMAMWOhr9p9Q"
      },
      "source": [
        "def noise(array:np.ndarray, noise_num:int):\n",
        "    array_l = len(array)\n",
        "    if array_l < noise_num:\n",
        "        print(\"Error! Array less than noise_num\")\n",
        "        return\n",
        "    choice = np.random.choice(len(array), noise_num, replace = False)\n",
        "    result_array = array.copy()\n",
        "    for i in choice:\n",
        "        result_array[i] = not result_array[i]\n",
        "    return result_array\n",
        "\n",
        "# test = np.random.choice(a=[False, True], size=(10, ))\n",
        "# print(test, noise(test, 2))\n",
        "\n",
        "class RM_encoder():\n",
        "    def __init__ (self: object, r: int, m: int):\n",
        "        self.generator = G_matrix.truncate(r, m)\n",
        "        self.r = r\n",
        "        self.m = m\n",
        "        self.t = 2**(self.m - self.r - 1) - 1\n",
        "    def encode (self, input):\n",
        "        input_as_bool = np.array(input).astype(np.bool)\n",
        "\n",
        "        data_numeric = np.dot(input_as_bool.astype(np.int), self.generator.data.astype(np.int))\n",
        "        data = np.zeros(self.generator.n, dtype = np.bool)\n",
        "        for i, val in enumerate(data_numeric):\n",
        "            if (data_numeric[i] % 2) == 1:\n",
        "                data[i] = True\n",
        "\n",
        "        monomials = []\n",
        "        for i, bit in enumerate(np.array(input).astype(np.bool)):\n",
        "            if bit:\n",
        "                monomials.append(self.generator.monomials[i])\n",
        "        return Encode_line(data, Polynomial(monomials)).update()\n",
        "    \n",
        "    def encode_with_noise (self, input, noise_num: int):\n",
        "        encode_line = self.encode(input)\n",
        "        if noise_num > self.t:\n",
        "            print(\"Warning! Max noise is {}\".format(self.t))\n",
        "        \n",
        "        return Noise_line(encode_line, noise_num)"
      ],
      "execution_count": 115,
      "outputs": []
    },
    {
      "cell_type": "markdown",
      "metadata": {
        "id": "Pc15564HORJo"
      },
      "source": [
        "**Encoder and Noise debug**"
      ]
    },
    {
      "cell_type": "code",
      "metadata": {
        "colab": {
          "base_uri": "https://localhost:8080/"
        },
        "id": "4t5wFd9uAVst",
        "outputId": "9868e4f7-f235-4987-e3cf-ec31dd7f93f3"
      },
      "source": [
        "m = 3\n",
        "r = 1\n",
        "\n",
        "rm_encoder = RM_encoder(r = r, m = m)\n",
        "\n",
        "pure_encode = rm_encoder.encode([1, 1, 1, 1])\n",
        "print(pure_encode)\n",
        "print(rm_encoder.encode_with_noise([1, 1, 1, 1], 1))\n",
        "print(rm_encoder.encode_with_noise([1, 1, 1, 1], 2))"
      ],
      "execution_count": 116,
      "outputs": [
        {
          "output_type": "stream",
          "text": [
            "1 0 0 1 0 1 1 0 #|# 1 + x1 + x2 + x3\n",
            "1 0 0 1 0 1 0 0 #|# 1 + x1 + x2 + x3\n",
            "Warning! Max noise is 1\n",
            "1 0 1 1 0 1 1 1 #|# 1 + x1 + x2 + x3\n"
          ],
          "name": "stdout"
        }
      ]
    },
    {
      "cell_type": "code",
      "metadata": {
        "colab": {
          "base_uri": "https://localhost:8080/"
        },
        "id": "6cXko2LFTTL6",
        "outputId": "f42a4eda-ad4f-4b51-9e74-7a1967777faf"
      },
      "source": [
        "pure_encode = rm_encoder.encode([1, 1, 1, 1])\n",
        "\n",
        "print(pure_encode.get_value([0, 0, 0]))\n",
        "print(pure_encode.get_value([0, 0, 1]))\n",
        "print(pure_encode.get_value([0, 1, 0]))\n",
        "print(pure_encode.get_value([0, 1, 1]))\n",
        "print(pure_encode.get_value([1, 0, 0]))\n",
        "print(pure_encode.get_value([1, 0, 1]))\n",
        "print(pure_encode.get_value([1, 1, 0]))\n",
        "print(pure_encode.get_value([1, 1, 1]))"
      ],
      "execution_count": 117,
      "outputs": [
        {
          "output_type": "stream",
          "text": [
            "True\n",
            "False\n",
            "False\n",
            "True\n",
            "False\n",
            "True\n",
            "True\n",
            "False\n"
          ],
          "name": "stdout"
        }
      ]
    },
    {
      "cell_type": "markdown",
      "metadata": {
        "id": "C1aSUWTsOgqt"
      },
      "source": [
        "**Noise Encoder debug**"
      ]
    },
    {
      "cell_type": "code",
      "metadata": {
        "id": "O48TxpScOmBb"
      },
      "source": [
        "def point_from_position (result: np.ndarray, position: int):\n",
        "    for i in range(len(result)):\n",
        "        val = 2**(len(result) - i - 1)\n",
        "        if position >= val:\n",
        "            result[i] = True\n",
        "            position -= val\n",
        "        else:\n",
        "            result[i] = False\n",
        "    return result\n",
        "\n",
        "class RM_decoder():\n",
        "    def __init__ (self: object, r: int, m: int):\n",
        "        self.r = r\n",
        "        self.m = m\n",
        "    def decode (self: object, encode: Encode_line):\n",
        "        recur_r = self.r\n",
        "        result = []\n",
        "        while recur_r >= 0:\n",
        "            self.__recur_decode(encode, recur_r, result)\n",
        "            recur_r -= 1\n",
        "        return result\n",
        "    def __recur_decode (self: object, encode: Encode_line, recur_r: int, result :list):\n",
        "        \n",
        "        b_points = np.zeros(self.m - recur_r, dtype = np.bool)\n",
        "        x_points = np.zeros(recur_r, dtype = np.bool)\n",
        "\n",
        "        full_points = np.zeros(self.m, dtype = np.bool)\n",
        "\n",
        "        for monom_arg in itertools.combinations(np.arange(self.m), recur_r):\n",
        "            monom_arg_mask = np.zeros(self.m, dtype = np.bool)\n",
        "            for arg in monom_arg:\n",
        "                monom_arg_mask[arg] = True\n",
        "\n",
        "            fix_b = 0\n",
        "            fix_x = 0\n",
        "\n",
        "            fix_arg_values = np.zeros(2, dtype = np.int)\n",
        "            for fix_b in range(2**(self.m - recur_r)):\n",
        "                b_points = point_from_position (b_points, fix_b)\n",
        "                fix_b_value = 0\n",
        "                for fix_x in range(2**recur_r):\n",
        "                    x_points = point_from_position (x_points, fix_x)\n",
        "                    b_i = 0\n",
        "                    x_i = 0\n",
        "                    for mask_i, mask_value in enumerate(monom_arg_mask):\n",
        "                        if mask_value == False:\n",
        "                            full_points[mask_i] = b_points[b_i]\n",
        "                            b_i += 1 \n",
        "                        else:\n",
        "                            full_points[mask_i] = x_points[x_i]\n",
        "                            x_i += 1\n",
        "                    #print(full_points, x_points, b_points, monom_arg_mask)\n",
        "                    # print(encode.get_value(full_points),encode.get_position(full_points),  full_points)\n",
        "                    fix_b_value += int(encode.get_value(full_points))\n",
        "                fix_arg_values [fix_b_value % 2] += 1\n",
        "            if fix_arg_values[1] > fix_arg_values[0]:\n",
        "                result.append((monom_arg, 1))\n",
        "                for i in range(2**self.m):\n",
        "                    full_points = point_from_position (full_points, i)\n",
        "                    change_flag = True\n",
        "                    for mask_i, mask_value in enumerate(monom_arg_mask):\n",
        "                        if mask_value == True and full_points[mask_i] != True:\n",
        "                            change_flag = False\n",
        "                            break\n",
        "                    if change_flag:\n",
        "                        encode.data[i] = not encode.data[i]\n",
        "            else:\n",
        "                result.append((monom_arg, 0))\n",
        "            # print(encode.data, fix_arg_values)"
      ],
      "execution_count": 133,
      "outputs": []
    },
    {
      "cell_type": "code",
      "metadata": {
        "id": "MgL18jptgAhJ"
      },
      "source": [
        "r = 1\n",
        "m = 4\n",
        "\n",
        "rm_encoder = RM_encoder(r = r, m = m)\n",
        "pure_encode = rm_encoder.encode([1, 1, 1, 1, 1])\n",
        "\n",
        "rm_decoder = RM_decoder(r = r, m = m)"
      ],
      "execution_count": 134,
      "outputs": []
    },
    {
      "cell_type": "code",
      "metadata": {
        "colab": {
          "base_uri": "https://localhost:8080/"
        },
        "id": "2Snd0a3HgNSy",
        "outputId": "936cc53c-7044-43fd-f43f-6cee0bac4cdb"
      },
      "source": [
        "rm_decoder.decode(rm_encoder.encode_with_noise([1, 1, 1, 1, 1], 3))"
      ],
      "execution_count": 135,
      "outputs": [
        {
          "output_type": "execute_result",
          "data": {
            "text/plain": [
              "[((0,), 1), ((1,), 1), ((2,), 1), ((3,), 1), ((), 1)]"
            ]
          },
          "metadata": {
            "tags": []
          },
          "execution_count": 135
        }
      ]
    },
    {
      "cell_type": "code",
      "metadata": {
        "id": "4t4O6uGcrjZq"
      },
      "source": [
        ""
      ],
      "execution_count": null,
      "outputs": []
    }
  ]
}