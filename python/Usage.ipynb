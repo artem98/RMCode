{
 "cells": [
  {
   "cell_type": "code",
   "execution_count": 1,
   "metadata": {},
   "outputs": [
    {
     "name": "stdout",
     "output_type": "stream",
     "text": [
      "Noise:7\n",
      "\n",
      "clear:\n",
      "0 1 1 0 1 1 => 0 1 1 0 0 1 1 0 1 0 0 1 1 0 0 1 1 0 0 1 1 0 0 1 0 1 1 0 0 1 1 0 => 0 1 1 0 1 1\n",
      "\n",
      "noise:\n",
      "0 1 1 0 1 1 => 0 1 0 0 0 0 1 0 1 0 0 1 1 0 0 1 1 0 1 1 1 1 0 1 0 1 1 1 0 0 1 1 => 0 1 1 0 1 1\n"
     ]
    }
   ],
   "source": [
    "from src.decoder import RM_decoder\n",
    "from src.encoder import RM_encoder\n",
    "import numpy as np\n",
    "from copy import copy\n",
    "\n",
    "r = 1\n",
    "m = 5\n",
    "\n",
    "rm_encoder = RM_encoder(r = r, m = m)\n",
    "rm_decoder = RM_decoder(r = r, m = m, encoder = rm_encoder)\n",
    "\n",
    "noise = rm_encoder.t\n",
    "\n",
    "print(\"Noise:{}\".format(noise), end = \"\\n\\n\")\n",
    "\n",
    "array = np.random.choice(2, rm_encoder.generator.k)\n",
    "\n",
    "encode_array = rm_encoder.encode(array)\n",
    "encode_array.reset_name()\n",
    "\n",
    "noise_encode_array = rm_encoder.encode_with_noise(array, noise)\n",
    "noise_encode_array.reset_name()\n",
    "\n",
    "print(\"clear:\")\n",
    "print(\"{} => {} => {}\".format(str(array)[1:-1], encode_array, str(rm_decoder.decode(encode_array.copy()))[1:-1]))\n",
    "\n",
    "print()\n",
    "\n",
    "print(\"noise:\")\n",
    "print(\"{} => {} => {}\".format(str(array)[1:-1], noise_encode_array, str(rm_decoder.decode(noise_encode_array.copy()))[1:-1]))"
   ]
  },
  {
   "cell_type": "code",
   "execution_count": null,
   "metadata": {},
   "outputs": [],
   "source": []
  }
 ],
 "metadata": {
  "colab": {
   "collapsed_sections": [],
   "name": "RM.ipynb",
   "provenance": []
  },
  "kernelspec": {
   "display_name": "Python 3",
   "language": "python",
   "name": "python3"
  },
  "language_info": {
   "codemirror_mode": {
    "name": "ipython",
    "version": 3
   },
   "file_extension": ".py",
   "mimetype": "text/x-python",
   "name": "python",
   "nbconvert_exporter": "python",
   "pygments_lexer": "ipython3",
   "version": "3.7.3"
  }
 },
 "nbformat": 4,
 "nbformat_minor": 1
}
